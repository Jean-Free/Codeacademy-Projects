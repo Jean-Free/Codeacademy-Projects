{
 "cells": [
  {
   "cell_type": "markdown",
   "metadata": {},
   "source": [
    "# U.S. Medical Insurance Costs"
   ]
  },
  {
   "cell_type": "markdown",
   "metadata": {},
   "source": [
    "Let's start importing the libraries that we would need for this project. In this case, we just need the \"csv\" librarie, so we just need to \"import csv\", because we are using a csv dataset."
   ]
  },
  {
   "cell_type": "code",
   "execution_count": 2,
   "metadata": {},
   "outputs": [],
   "source": [
    "import csv"
   ]
  },
  {
   "cell_type": "markdown",
   "metadata": {},
   "source": [
    "Now we will create a dictionary because it's a really good and a fast way to analayze and investigate any dataset, where the keys are the columns from the csv file and the valours will be a list of each data in the csv from that key(column)."
   ]
  },
  {
   "cell_type": "code",
   "execution_count": 50,
   "metadata": {
    "scrolled": false
   },
   "outputs": [],
   "source": [
    "#we assign a variable to our file csv\n",
    "csv_file= \"insurance.csv\"\n",
    "#Initialization of our dictionary where we'll put the information\n",
    "insurance_info={}\n",
    "#Open the file and save it in a temporally variable\n",
    "with open(csv_file) as medical_info:\n",
    "    #Read the file in a Dictionary format, using \"csv.DictReader\" previously imported csv library\n",
    "    reader=csv.DictReader(medical_info)\n",
    "    #We read each row\n",
    "    for row in reader:\n",
    "        #For each row, we read the key as header and the value as a each value in the column,\n",
    "        # using the items() of the dictionary \n",
    "        for key, value in row.items():\n",
    "            #Initialaze every key with a list before put any information\n",
    "            if key not in insurance_info:\n",
    "                insurance_info[key]=[]\n",
    "            #We append the information of every value inside the key, then we we'll have a key as the header of the column\n",
    "            #and the value a list of each value in the column   \n",
    "            insurance_info[key].append(value)\n",
    "    "
   ]
  },
  {
   "cell_type": "markdown",
   "metadata": {},
   "source": [
    "We now have the dictionary of all the information from medical insurance csv, so now we can analyze whatever we have due to find any problem that we have.\n",
    "Due in this project we have not problems to analyze, we'll doin some kind of practical analisis trying to know more about the medical insurance in US.\n",
    "\n",
    "We starting looking for information o all regions where we took the data at first and the recount of data from each region"
   ]
  },
  {
   "cell_type": "code",
   "execution_count": 16,
   "metadata": {},
   "outputs": [
    {
     "data": {
      "text/plain": [
       "{'southwest': 325, 'southeast': 364, 'northwest': 325, 'northeast': 324}"
      ]
     },
     "execution_count": 16,
     "metadata": {},
     "output_type": "execute_result"
    }
   ],
   "source": [
    "#We'll create a function where we we'll obtain a dictionary where the keys are the regions and the values are the total number\n",
    "# of people with medical insurance in this region// we took the dictionary previous created for it\n",
    "def diferent_regions(dict):\n",
    "    #Starting the list whe we'll put each region we have data\n",
    "    regions_lst=[]\n",
    "    #Analayze the list (value) of \"region\"(key) inside the dictionary\n",
    "    for region in dict['region']:\n",
    "        #Want to know if the region is already in the list\n",
    "        if region not in regions_lst:\n",
    "            #if the region not in the list we'll put in\n",
    "            regions_lst.append(region)\n",
    "    #Initialization of the dictionary of regions\n",
    "    region_dict={}\n",
    "    #we look inside the region list created\n",
    "    for region in regions_lst:\n",
    "        #we update the dictionary with every region in the list and the recount of that region inside the firs dictionary\n",
    "        region_dict[region]=dict['region'].count(region)\n",
    "    return region_dict\n",
    "regions_count=diferent_regions(insurance_info)\n",
    "regions_count\n",
    "            "
   ]
  },
  {
   "cell_type": "markdown",
   "metadata": {},
   "source": [
    "Now we we'll look for the region with more cost average and the region with more smokers, so we'll try to analyze if they are correlative"
   ]
  },
  {
   "cell_type": "markdown",
   "metadata": {},
   "source": [
    "We already have a dictionary with only regions and recount, so we'll use it, instead of create another function inside another function, that we'll save us some effort and time"
   ]
  },
  {
   "cell_type": "code",
   "execution_count": 48,
   "metadata": {},
   "outputs": [
    {
     "name": "stdout",
     "output_type": "stream",
     "text": [
      "{'southwest': 12346.93737729231, 'southeast': 14735.411437609895, 'northwest': 12417.575373969228, 'northeast': 13406.3845163858}\n"
     ]
    },
    {
     "data": {
      "text/plain": [
       "('southeast', 14735.411437609895)"
      ]
     },
     "execution_count": 48,
     "metadata": {},
     "output_type": "execute_result"
    }
   ],
   "source": [
    "#We starting creating a function where we'll obtain the region with max. average, using the first dictionary\n",
    "#and the previous dictionary in order to do it faster\n",
    "#append every value in each list\n",
    "def create_list(dict,value):\n",
    "    for key, lst_key in dict.items():\n",
    "        if key==value:\n",
    "            lst=lst_key\n",
    "    return lst\n",
    "age_list=create_list(insurance_info,\"age\")\n",
    "sex_list=create_list(insurance_info,\"sex\")\n",
    "bmi_list=create_list(insurance_info,\"bmi\")\n",
    "region_list=create_list(insurance_info,\"region\")\n",
    "children_list=create_list(insurance_info,\"children\")\n",
    "smoker_list=create_list(insurance_info,\"smoker\")\n",
    "charges_list=create_list(insurance_info,\"charges\")  \n",
    "#build a function to calculate the average and know whichc city have the maximum average   \n",
    "def max_average_cost(dict):\n",
    "    #initialize a dictionary\n",
    "    dict_region_average={}\n",
    "    #we use the previos dict to have all the regions and don't use again the first dict.\n",
    "    for region in dict:\n",
    "        #initialize a total count\n",
    "        total=0\n",
    "        #we loop using index, because we know that every list have the same len and every index is relationated\n",
    "        #in all the list, ex: for age[i] we have the sex[i]\n",
    "        for i in range(len(region_list)):\n",
    "            #we go throught the regions and compare\n",
    "            if region_list[i]==region:\n",
    "                total+=float(charges_list[i])\n",
    "        #calculate average with the total and the count of regions\n",
    "        average=total/regions_count[region]\n",
    "        #give the average to each region we have\n",
    "        dict_region_average[region]=average\n",
    "    print(dict_region_average)\n",
    "    #first calculate the region with max average\n",
    "    max_region=max(dict_region_average, key=dict_region_average.get)\n",
    "    #then we look for the mount of this average\n",
    "    max_average=dict_region_average[max_region]\n",
    "    #return the region and his average in a tupple\n",
    "    return max_region, max_average\n",
    "max_cost_region=max_average_cost(regions_count)\n",
    "max_cost_region\n",
    "                \n",
    "    "
   ]
  },
  {
   "cell_type": "code",
   "execution_count": 49,
   "metadata": {},
   "outputs": [
    {
     "name": "stdout",
     "output_type": "stream",
     "text": [
      "{'southwest': 58, 'southeast': 91, 'northwest': 58, 'northeast': 67}\n"
     ]
    },
    {
     "data": {
      "text/plain": [
       "('southeast', 91)"
      ]
     },
     "execution_count": 49,
     "metadata": {},
     "output_type": "execute_result"
    }
   ],
   "source": [
    "#Now we create a function for smokers it's really similiar to the previos function with a few changes\n",
    "def max_smoker_area(dict):\n",
    "    smoker_region={}\n",
    "    for region in dict:\n",
    "        total=0\n",
    "        for i in range(len(region_list)):\n",
    "            if region_list[i]==region:\n",
    "                #we want to know if are smoker, don't want the total, jus the recount of every region\n",
    "                if smoker_list[i]=='yes':\n",
    "                    total+=1\n",
    "        #we obtain the total of smokers in this region and put it inside the dictionary with the region key and the total value\n",
    "        smoker_region[region]=total\n",
    "    #we calculate doing the same as the previous function\n",
    "    print(smoker_region)\n",
    "    max_region=max(smoker_region, key=smoker_region.get)\n",
    "    max_average=smoker_region[max_region]\n",
    "    #return the region and the number of smokers in a tupple\n",
    "    return max_region, max_average\n",
    "max_smoker_region=max_smoker_area(regions_count)\n",
    "max_smoker_region"
   ]
  },
  {
   "cell_type": "code",
   "execution_count": 45,
   "metadata": {},
   "outputs": [
    {
     "name": "stdout",
     "output_type": "stream",
     "text": [
      "True\n"
     ]
    }
   ],
   "source": [
    "# we create a function that analyze if there are correlation, between max average region and the more smokers region\n",
    "def correlation(a,b):\n",
    "    return a[0]==b[0]\n",
    "print(correlation(max_cost_region,max_smoker_region))\n"
   ]
  },
  {
   "cell_type": "markdown",
   "metadata": {},
   "source": [
    "We can conclude that there are correlation between the region with more cos average of medical unsurance and the region with more smokers and it's 'southeast' region.\n",
    "We have to keep in mind that we have more data information from 'southeast' as we observed in the first function, so the results obtained could be a little bit unfairy and we will need more information for the other regions"
   ]
  },
  {
   "cell_type": "code",
   "execution_count": null,
   "metadata": {},
   "outputs": [],
   "source": []
  }
 ],
 "metadata": {
  "kernelspec": {
   "display_name": "Python 3 (ipykernel)",
   "language": "python",
   "name": "python3"
  },
  "language_info": {
   "codemirror_mode": {
    "name": "ipython",
    "version": 3
   },
   "file_extension": ".py",
   "mimetype": "text/x-python",
   "name": "python",
   "nbconvert_exporter": "python",
   "pygments_lexer": "ipython3",
   "version": "3.11.7"
  }
 },
 "nbformat": 4,
 "nbformat_minor": 4
}
